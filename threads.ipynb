{
  "nbformat": 4,
  "nbformat_minor": 0,
  "metadata": {
    "colab": {
      "provenance": [],
      "authorship_tag": "ABX9TyPefE+u3bTfjhTyd/xIp0BQ",
      "include_colab_link": true
    },
    "kernelspec": {
      "name": "python3",
      "display_name": "Python 3"
    },
    "language_info": {
      "name": "python"
    }
  },
  "cells": [
    {
      "cell_type": "markdown",
      "metadata": {
        "id": "view-in-github",
        "colab_type": "text"
      },
      "source": [
        "<a href=\"https://colab.research.google.com/github/carol-alcan/threads/blob/main/threads.ipynb\" target=\"_parent\"><img src=\"https://colab.research.google.com/assets/colab-badge.svg\" alt=\"Open In Colab\"/></a>"
      ]
    },
    {
      "cell_type": "code",
      "execution_count": 15,
      "metadata": {
        "id": "yB9mdb961QQJ"
      },
      "outputs": [],
      "source": [
        "from time import sleep"
      ]
    },
    {
      "cell_type": "code",
      "source": [
        "print(\"Olá bootcampers\")\n",
        "for i in range(10):\n",
        "  print(i)\n",
        "  sleep(.5)\n",
        "\n",
        "print(\"IGTI\")"
      ],
      "metadata": {
        "colab": {
          "base_uri": "https://localhost:8080/"
        },
        "id": "aG9uVzqmCBZa",
        "outputId": "696233dd-e6b8-4621-dfc7-6928f9f7fcda"
      },
      "execution_count": 3,
      "outputs": [
        {
          "output_type": "stream",
          "name": "stdout",
          "text": [
            "Olá bootcampers\n",
            "0\n",
            "1\n",
            "2\n",
            "3\n",
            "4\n",
            "5\n",
            "6\n",
            "7\n",
            "8\n",
            "9\n",
            "IGTI\n"
          ]
        }
      ]
    },
    {
      "cell_type": "code",
      "source": [
        "from threading import Thread"
      ],
      "metadata": {
        "id": "n1GkhZsNrEZe"
      },
      "execution_count": 10,
      "outputs": []
    },
    {
      "cell_type": "code",
      "source": [
        "class IGThread(Thread):\n",
        "  def __init__(self, texto, tempo):\n",
        "    self.texto = texto\n",
        "    self.tempo = tempo\n",
        "\n",
        "    super().__init__()\n",
        "\n",
        "  def run(self):\n",
        "    sleep(self.tempo)\n",
        "    print(self.texto)\n",
        "\n",
        "t1 = IGThread('IGTI Thread 1', 5)\n",
        "t1.start()\n",
        "\n",
        "\n",
        "t2 = IGThread('IGTI Thread 2', 8)\n",
        "t2.start()\n",
        "\n",
        "t3 = IGThread('IGTI Thread 3', 17)\n",
        "t3.start()\n",
        "\n",
        "t4 = IGThread('IGTI Thread 4', 2)\n",
        "t4.start()\n",
        "\n",
        "for i in range(20):\n",
        "  print(i)\n",
        "  sleep(1)"
      ],
      "metadata": {
        "colab": {
          "base_uri": "https://localhost:8080/"
        },
        "id": "2DCVn5DrtkWT",
        "outputId": "c372f84d-6066-49f0-85fe-b42ca48024c9"
      },
      "execution_count": 16,
      "outputs": [
        {
          "output_type": "stream",
          "name": "stdout",
          "text": [
            "0\n",
            "1\n",
            "2\n",
            "IGTI Thread 4\n",
            "3\n",
            "4\n",
            "IGTI Thread 1\n",
            "5\n",
            "6\n",
            "7\n",
            "IGTI Thread 2\n",
            "8\n",
            "9\n",
            "10\n",
            "11\n",
            "12\n",
            "13\n",
            "14\n",
            "15\n",
            "16\n",
            "IGTI Thread 3\n",
            "17\n",
            "18\n",
            "19\n"
          ]
        }
      ]
    }
  ]
}